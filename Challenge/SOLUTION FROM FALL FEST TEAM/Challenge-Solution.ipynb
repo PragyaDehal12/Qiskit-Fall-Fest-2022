{
 "cells": [
  {
   "cell_type": "markdown",
   "metadata": {},
   "source": [
    "# Challenge 1\n",
    "Design a quantum circuit that acts as a biased coin. For example: 60% of the time Heads (or 0) shows up and 40% Tails (or 1). You can set any bias you like, just make sure it is not equal. You can assume any missing information.\n",
    "\n",
    "### Understanding the problem\n",
    "Let Heads be state of 0\n",
    "\n",
    "Let Tails be state of 1\n",
    "\n",
    "We know that a fair coin has equal probability of being H or T, that is the P(H) = 0.5 and P(T)=0.5, where P(H) is probability of getting heads and P(T) is the probability of getting tails.\n",
    "\n",
    "Now a baised coin is a coin where the chances of getting H and T is not same, that is P(H) != P(T) != 0.5\n",
    "\n",
    "This implies that a biased coin can be anything other than equal superposition\n",
    "\n",
    "So there is no fixed solution for this problem and depends on your creativity.\n",
    "1. You can create a circuit by implementing Rx(45) and you will get a baised coin. \n",
    "2. You can use a T gate or S gate or any combination of gates, just make sure that on a block sphere the final solution should not be parallel to XY plane. \n",
    "3. Taking a qubit and letting it be so is also correct but an extreme answer as you will get Heads 100% of the time."
   ]
  },
  {
   "cell_type": "markdown",
   "metadata": {},
   "source": [
    "#### Implementing the Rx(45) approach as a demo\n",
    "\n",
    "We know Rx($\\theta$) gate in matrix form is as shown below:\n",
    "$$Rx(\\theta) =\\begin{bmatrix} cos(\\frac{\\theta}{2}) & -isin(\\frac{\\theta}{2})   \\\\ -isin(\\frac{\\theta}{2}) & cos(\\frac{\\theta}{2}) \\end{bmatrix}$$\n",
    "<br/>\n",
    "\n",
    "So, Rx($\\pi/4$) will be:\n",
    "$$Rx(\\pi/4) =\\begin{bmatrix} cos(\\frac{\\pi/4}{2}) & -isin(\\frac{\\pi/4}{2})   \\\\ -isin(\\frac{\\pi/4}{2}) & cos(\\frac{\\pi/4}{2}) \\end{bmatrix}$$\n",
    "<br/>\n",
    "\n",
    "Which equals to:\n",
    "$$Rx(\\pi/4) =\\begin{bmatrix} 0.9239 & -i0.3827   \\\\ -i0.3827 & 0.9239 \\end{bmatrix}$$\n",
    "<br/>\n",
    "$$\\newcommand{\\ket}[1]{|#1\\rangle}$$\n",
    "We know that a newly intialised qubit in qiskit is $\\ket{0}$\n",
    "\n",
    "So the final state of the output will be $Rx(\\pi/4) * \\ket{0}$\n",
    "\n",
    "\n",
    "$Rx(\\pi/4) * \\ket{0}$ = \n",
    "$$\\begin{bmatrix} 0.9239 & -i0.3827   \\\\ -i0.3827 & 0.9239 \\end{bmatrix}\\begin{bmatrix} 1 \\\\ 0 \\end{bmatrix} = \\begin{bmatrix} 0.9239 \\\\ -i0.3827 \\end{bmatrix}$$\n",
    "\n",
    "So Probability of H or 0 will be $0.9239^{2}$ = 0.85359121\n",
    "\n",
    "and Probability of T or 1 will be $-i0.3827^{2}$ = 0.14645929\n",
    "\n",
    "#### So we have created a biased coin which gets heads 85% of the time and tails 15% of the time"
   ]
  },
  {
   "cell_type": "code",
   "execution_count": 1,
   "metadata": {},
   "outputs": [
    {
     "data": {
      "image/png": "[encoded data removed]",
      "text/plain": [
       "<Figure size 146.507x84.28 with 1 Axes>"
      ]
     },
     "metadata": {},
     "output_type": "display_data"
    }
   ],
   "source": [
    "# Rx gate in quantum where theta=pi/4\n",
    "from qiskit import QuantumCircuit, QuantumRegister, ClassicalRegister\n",
    "from qiskit import Aer, execute, visualization\n",
    "from math import pi\n",
    "\n",
    "q = QuantumRegister(1)\n",
    "qc = QuantumCircuit(q)\n",
    "qc.rx(pi/4, q)\n",
    "display(qc.draw(output=\"mpl\"))"
   ]
  },
  {
   "cell_type": "code",
   "execution_count": 2,
   "metadata": {},
   "outputs": [],
   "source": [
    "# executing the circuit\n",
    "backend = Aer.get_backend('statevector_simulator')\n",
    "job = execute(qc, backend)\n",
    "result = job.result()"
   ]
  },
  {
   "cell_type": "code",
   "execution_count": 3,
   "metadata": {
    "scrolled": true
   },
   "outputs": [
    {
     "data": {
      "image/png": "[encoded data removed]",
      "text/plain": [
       "<Figure size 504x360 with 1 Axes>"
      ]
     },
     "metadata": {},
     "output_type": "display_data"
    }
   ],
   "source": [
    "# plot the probability histogram\n",
    "counts = result.get_counts(qc)\n",
    "graph = visualization.plot_histogram(counts)\n",
    "display(graph)"
   ]
  },
  {
   "cell_type": "markdown",
   "metadata": {},
   "source": [
    "The histogram verifies the probabilites calculated above. \n",
    "\n",
    "We have successfully created a biased coin where P(H) = 0.85 and P(T)=0.15\n",
    "\n",
    "This is just an example, any other solution holds correct as well till the time P(H)!=P(T)!=0.50\n",
    "\n",
    "Have a look over [here](https://github.com/developer-student-club-thapar/Quantum-Computing/tree/main/3.%20Single%20Qubit%20Gates), to understand other gates you can use to achieve unequal superposition"
   ]
  },
  {
   "cell_type": "markdown",
   "metadata": {},
   "source": [
    "# Challenge 2: \n",
    "Take a qubit and put it in state of 1. Now create an equal superposition and present the measured result as a histogram. Explain the result obtained.\n",
    "\n",
    "### Understanding the solution\n",
    "1. In qiskit, qubits are intialised as $\\ket{0}$\n",
    "2. To transform $\\ket{0}$ to $\\ket{1}$ use X gate\n",
    "3. Now, to achieve equal superposition use H gate (That is P($\\ket{0}$)=0.50 and P($\\ket{1}$)=0.50\n",
    "4. Plot the histogram"
   ]
  },
  {
   "cell_type": "code",
   "execution_count": 4,
   "metadata": {},
   "outputs": [
    {
     "data": {
      "image/png": "[encoded data removed]",
      "text/plain": [
       "<Figure size 267.052x144.48 with 1 Axes>"
      ]
     },
     "metadata": {},
     "output_type": "display_data"
    }
   ],
   "source": [
    "# X gate -> H gate -> measure\n",
    "q = QuantumRegister(1)\n",
    "c = ClassicalRegister(1)\n",
    "qc = QuantumCircuit(q,c)\n",
    "qc.x(q)\n",
    "qc.h(q)\n",
    "qc.measure(q,c)\n",
    "display(qc.draw(output=\"mpl\"))"
   ]
  },
  {
   "cell_type": "code",
   "execution_count": 5,
   "metadata": {},
   "outputs": [],
   "source": [
    "# executing the circuit\n",
    "backend = Aer.get_backend('statevector_simulator')\n",
    "job = execute(qc, backend)\n",
    "result = job.result()"
   ]
  },
  {
   "cell_type": "code",
   "execution_count": 6,
   "metadata": {},
   "outputs": [
    {
     "data": {
      "image/png": "[encoded data removed]",
      "text/plain": [
       "<Figure size 504x360 with 1 Axes>"
      ]
     },
     "metadata": {},
     "output_type": "display_data"
    }
   ],
   "source": [
    "# plot the probability histogram\n",
    "counts = result.get_counts(qc)\n",
    "graph = visualization.plot_histogram(counts)\n",
    "display(graph)"
   ]
  },
  {
   "cell_type": "markdown",
   "metadata": {},
   "source": [
    "# Challenge 3:\n",
    "Take 2 qubits and entangle them in as many ways you can think of. Plot a histogram of the results and explain the results. (Hint: maximum ways of entangling 2 qubits is 4)\n",
    "\n",
    "### Understanding the approach:\n",
    "\n",
    "### Entanglement\n",
    "$$\\newcommand{\\ket}[1]{|#1\\rangle}$$\n",
    "So you have 2 qubits and you know measuring them one by one will give you either $\\ket{0}$ or $\\ket{1}$.\n",
    "\n",
    "But if they were entangled it would mean that if you measure one of them, then the information you gain from the result would let you know the state in which the other qubit collapses on measurement, before measuring it. \n",
    "\n",
    "So the second qubit is still in superposition but you already know the well-defined state it will collapse in.\n",
    "\n",
    "### Bell States\n",
    "Maximally entangled states on 2 qubits. There are 4 bell states and quantum circuits for the same are expected as a solution. \n",
    "#### 1. $\\ket{q} = \\frac{\\ket{00} + \\ket{11}}{\\sqrt{2}}$ ( a in figure below)\n",
    "If we were to measure the first qubit to be $\\ket{0}$ then even without measuring we know that the second qubit will be $\\ket{0}$ upon measuring and vice-versa.\n",
    "\n",
    "If we were to measure the first qubit to be $\\ket{1}$ then even without measuring we know that the second qubit will be $\\ket{1}$ upon measuring and vice-versa.\n",
    "\n",
    "You can imagine tossing 2 coins, and one of them stops to be in a particular state, then the second coin which is still tossing, will give a predetermined result on measurement(stopping).\n",
    "\n",
    "Another analogy would be that time when you and your entangled brother were given a choice between 2 things, we know what you chose and from this information we already have the information regarding what your brother will choose, after all he is a copycat, just like the given bell state.\n",
    "\n",
    "#### 2. $\\ket{q} = \\frac{\\ket{00} - \\ket{11}}{\\sqrt{2}}$ ( c in figure below)\n",
    "If we were to measure the first qubit to be $\\ket{0}$ then even without measuring we know that the second qubit will be $\\ket{0}$ upon measuring and vice-versa.\n",
    "\n",
    "If we were to measure the first qubit to be $\\ket{1}$ then even without measuring we know that the second qubit will be $\\ket{1}$ upon measuring and vice-versa.\n",
    "\n",
    "#### 3. $\\ket{q} = \\frac{\\ket{01} + \\ket{10}}{\\sqrt{2}}$ ( b in figure below)\n",
    "If we were to measure one qubit to be $\\ket{0}$ then even without measuring we know that the other qubit will be $\\ket{1}$ upon measuring and vice-versa.\n",
    "\n",
    "If we were to measure one qubit to be $\\ket{1}$ then even without measuring we know that the other qubit will be $\\ket{0}$ upon measuring and vice-versa.\n",
    "\n",
    "Now your brother doesn't want the same thing as you, but the opposite one, now that he has all grown up and avoids you at school.\n",
    "\n",
    "#### 4. $\\ket{q} = \\frac{\\ket{01} - \\ket{10}}{\\sqrt{2}}$ ( d in figure below)\n",
    "If we were to measure one qubit to be $\\ket{0}$ then even without measuring we know that the other qubit will be $\\ket{1}$ upon measuring and vice-versa.\n",
    "\n",
    "If we were to measure one qubit to be $\\ket{1}$ then even without measuring we know that the other qubit will be $\\ket{0}$ upon measuring and vice-versa.\n",
    "\n",
    "\n",
    "![b](https://media.springernature.com/lw685/springer-static/image/art%3A10.1134%2FS1547477119060153/MediaObjects/11497_2019_9131_Fig6_HTML.gif)"
   ]
  },
  {
   "cell_type": "markdown",
   "metadata": {},
   "source": [
    "#### 1. $\\ket{q} = \\frac{\\ket{00} + \\ket{11}}{\\sqrt{2}}$ "
   ]
  },
  {
   "cell_type": "code",
   "execution_count": 7,
   "metadata": {
    "scrolled": true
   },
   "outputs": [
    {
     "data": {
      "image/png": "[encoded data removed]",
      "text/plain": [
       "<Figure size 206.852x144.48 with 1 Axes>"
      ]
     },
     "execution_count": 7,
     "metadata": {},
     "output_type": "execute_result"
    }
   ],
   "source": [
    "# define the quantum circuit\n",
    "qc = QuantumCircuit(2)\n",
    "qc.h(0)\n",
    "qc.cx(0,1)\n",
    "qc.draw('mpl')"
   ]
  },
  {
   "cell_type": "code",
   "execution_count": 8,
   "metadata": {},
   "outputs": [
    {
     "data": {
      "image/png": "[encoded data removed]",
      "text/plain": [
       "<Figure size 504x360 with 1 Axes>"
      ]
     },
     "execution_count": 8,
     "metadata": {},
     "output_type": "execute_result"
    }
   ],
   "source": [
    "# execute the circuit and plot the probability histogram\n",
    "job = execute(qc, backend)\n",
    "result = job.result()\n",
    "visualization.plot_histogram(result.get_counts())"
   ]
  },
  {
   "cell_type": "markdown",
   "metadata": {},
   "source": [
    "#### 2. $\\ket{q} = \\frac{\\ket{00} - \\ket{11}}{\\sqrt{2}}$"
   ]
  },
  {
   "cell_type": "code",
   "execution_count": 9,
   "metadata": {},
   "outputs": [
    {
     "data": {
      "image/png": "[encoded data removed]",
      "text/plain": [
       "<Figure size 267.052x144.48 with 1 Axes>"
      ]
     },
     "execution_count": 9,
     "metadata": {},
     "output_type": "execute_result"
    }
   ],
   "source": [
    "# define the quantum circuit\n",
    "qc = QuantumCircuit(2)\n",
    "qc.x(0)\n",
    "qc.h(0)\n",
    "qc.cx(0,1)\n",
    "qc.draw('mpl')"
   ]
  },
  {
   "cell_type": "code",
   "execution_count": 10,
   "metadata": {},
   "outputs": [
    {
     "data": {
      "image/png": "[encoded data removed]",
      "text/plain": [
       "<Figure size 504x360 with 1 Axes>"
      ]
     },
     "execution_count": 10,
     "metadata": {},
     "output_type": "execute_result"
    }
   ],
   "source": [
    "# execute the circuit and plot the probability histogram\n",
    "job = execute(qc, backend)\n",
    "result = job.result()\n",
    "visualization.plot_histogram(result.get_counts())"
   ]
  },
  {
   "cell_type": "markdown",
   "metadata": {},
   "source": [
    "#### 3. $\\ket{q} = \\frac{\\ket{01} + \\ket{10}}{\\sqrt{2}}$"
   ]
  },
  {
   "cell_type": "code",
   "execution_count": 11,
   "metadata": {},
   "outputs": [
    {
     "data": {
      "image/png": "[encoded data removed]",
      "text/plain": [
       "<Figure size 206.852x144.48 with 1 Axes>"
      ]
     },
     "execution_count": 11,
     "metadata": {},
     "output_type": "execute_result"
    }
   ],
   "source": [
    "# define the quantum circuit\n",
    "qc = QuantumCircuit(2)\n",
    "qc.h(0)\n",
    "qc.x(1)\n",
    "qc.cx(0,1)\n",
    "qc.draw('mpl')"
   ]
  },
  {
   "cell_type": "code",
   "execution_count": 12,
   "metadata": {},
   "outputs": [
    {
     "data": {
      "image/png": "[encoded data removed]",
      "text/plain": [
       "<Figure size 504x360 with 1 Axes>"
      ]
     },
     "execution_count": 12,
     "metadata": {},
     "output_type": "execute_result"
    }
   ],
   "source": [
    "# execute the circuit and plot the probability histogram\n",
    "job = execute(qc, backend)\n",
    "result = job.result()\n",
    "visualization.plot_histogram(result.get_counts())"
   ]
  },
  {
   "cell_type": "markdown",
   "metadata": {},
   "source": [
    "#### 4. $\\ket{q} = \\frac{\\ket{01} - \\ket{10}}{\\sqrt{2}}$"
   ]
  },
  {
   "cell_type": "code",
   "execution_count": 13,
   "metadata": {},
   "outputs": [
    {
     "data": {
      "image/png": "[encoded data removed]",
      "text/plain": [
       "<Figure size 267.052x144.48 with 1 Axes>"
      ]
     },
     "execution_count": 13,
     "metadata": {},
     "output_type": "execute_result"
    }
   ],
   "source": [
    "# define the circuit\n",
    "qc = QuantumCircuit(2)\n",
    "qc.x([0,1])\n",
    "qc.h(0)\n",
    "qc.cx(0,1)\n",
    "qc.draw('mpl')"
   ]
  },
  {
   "cell_type": "code",
   "execution_count": 14,
   "metadata": {},
   "outputs": [
    {
     "data": {
      "image/png": "[encoded data removed]",
      "text/plain": [
       "<Figure size 504x360 with 1 Axes>"
      ]
     },
     "execution_count": 14,
     "metadata": {},
     "output_type": "execute_result"
    }
   ],
   "source": [
    "# execute the circuit and plot the probability histogram\n",
    "job = execute(qc, backend)\n",
    "result = job.result()\n",
    "visualization.plot_histogram(result.get_counts())"
   ]
  },
  {
   "cell_type": "markdown",
   "metadata": {},
   "source": [
    "For more details on entanglement and bell states go [here](https://github.com/developer-student-club-thapar/Quantum-Computing/blob/main/4.%20Multi-Qubit%20Gates/c.%20Bell%20States.ipynb)"
   ]
  },
  {
   "cell_type": "markdown",
   "metadata": {},
   "source": [
    "### Thankyou for being a part of Qiskit Fall Fest 2022: Fundamentals of Quantum computing (Thapar University)\n",
    "\n",
    "We hope that you enjoyed thoroughly and learned a new cutting edge skill!"
   ]
  }
 ],
 "metadata": {
  "kernelspec": {
   "display_name": "Python 3",
   "language": "python",
   "name": "python3"
  },
  "language_info": {
   "codemirror_mode": {
    "name": "ipython",
    "version": 3
   },
   "file_extension": ".py",
   "mimetype": "text/x-python",
   "name": "python",
   "nbconvert_exporter": "python",
   "pygments_lexer": "ipython3",
   "version": "3.8.10"
  }
 },
 "nbformat": 4,
 "nbformat_minor": 4
}
